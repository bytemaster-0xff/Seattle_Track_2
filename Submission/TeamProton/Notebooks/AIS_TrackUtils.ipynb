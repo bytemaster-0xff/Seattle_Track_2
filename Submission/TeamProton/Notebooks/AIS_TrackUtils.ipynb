{
 "cells": [
  {
   "cell_type": "code",
   "execution_count": 14,
   "metadata": {},
   "outputs": [
    {
     "name": "stdout",
     "output_type": "stream",
     "text": [
      "./tracks/17/2017/12/338115345.csv\n",
      "./tracks/17/2017/12/367754530.csv\n",
      "./tracks/17/2017/12/305266000.csv\n",
      "./tracks/17/2017/12/338215012.csv\n",
      "./tracks/17/2017/12/338225215.csv\n",
      "./tracks/17/2017/12/378112314.csv\n",
      "./tracks/17/2017/12/338151319.csv\n",
      "./tracks/17/2017/12/538071163.csv\n",
      "./tracks/17/2017/12/259757000.csv\n"
     ]
    }
   ],
   "source": [
    "from os import listdir\n",
    "from os.path import isfile, join\n",
    "import numpy as np\n",
    "import pandas as pd\n",
    "\n",
    "zone = 17\n",
    "year = 2017\n",
    "month = 12\n",
    "\n",
    "path = \"./tracks/\" + str(zone) + \"/\" + str(year) + \"/\" + str(month)\n",
    "\n",
    "files = [f for f in listdir(path) if isfile(join(path, f))]\n",
    "\n",
    "idx = 0\n",
    "\n",
    "for file in files:\n",
    "    idx = idx + 1\n",
    "    \n",
    "    if(idx < 10):\n",
    "        print(path + \"/\" + file)\n",
    "    \n",
    "        tb = pd.read_csv(path + \"/\" + file,\n",
    "            index_col=None,\n",
    "            header=0,\n",
    "            parse_dates=[1],\n",
    "            infer_datetime_format=True)\n",
    "\n",
    "        tb.columns = ['BaseDateTime', 'LAT', 'LON', 'STATUS']        "
   ]
  },
  {
   "cell_type": "code",
   "execution_count": null,
   "metadata": {},
   "outputs": [],
   "source": []
  }
 ],
 "metadata": {
  "kernelspec": {
   "display_name": "Python 3",
   "language": "python",
   "name": "python3"
  },
  "language_info": {
   "codemirror_mode": {
    "name": "ipython",
    "version": 3
   },
   "file_extension": ".py",
   "mimetype": "text/x-python",
   "name": "python",
   "nbconvert_exporter": "python",
   "pygments_lexer": "ipython3",
   "version": "3.6.4"
  }
 },
 "nbformat": 4,
 "nbformat_minor": 2
}
